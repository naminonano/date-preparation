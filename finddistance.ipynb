{
  "nbformat": 4,
  "nbformat_minor": 0,
  "metadata": {
    "colab": {
      "name": "finddistance",
      "provenance": [],
      "collapsed_sections": []
    },
    "kernelspec": {
      "name": "python3",
      "display_name": "Python 3"
    },
    "language_info": {
      "name": "python"
    }
  },
  "cells": [
    {
      "cell_type": "code",
      "metadata": {
        "id": "-2I5cIZLJvSS"
      },
      "source": [
        "import requests\n",
        "import pandas as pd\n",
        "# import polyline\n",
        "import json\n",
        "import pickle\n"
      ],
      "execution_count": null,
      "outputs": []
    },
    {
      "cell_type": "code",
      "metadata": {
        "colab": {
          "base_uri": "https://localhost:8080/"
        },
        "id": "Gxfo445AKzfv",
        "outputId": "64c9b6ed-c774-4d82-9a08-28545aaef925"
      },
      "source": [
        "!pip install polyline\n"
      ],
      "execution_count": null,
      "outputs": [
        {
          "output_type": "stream",
          "text": [
            "Collecting polyline\n",
            "  Downloading https://files.pythonhosted.org/packages/0c/4a/67edcfd960ff64221782531c867d862acc6a4e85b382a291bcb820dcde72/polyline-1.4.0-py2.py3-none-any.whl\n",
            "Requirement already satisfied: six>=1.8.0 in /usr/local/lib/python3.7/dist-packages (from polyline) (1.15.0)\n",
            "Installing collected packages: polyline\n",
            "Successfully installed polyline-1.4.0\n"
          ],
          "name": "stdout"
        }
      ]
    },
    {
      "cell_type": "code",
      "metadata": {
        "id": "7G7k29KwKHup"
      },
      "source": [
        "url='https://drive.google.com/file/d/1gKZ4bvwwVjyvrIZorG2zBEswDQpcwW88/view?usp=sharing'\n",
        "file_id=url.split('/')[-2]\n",
        "url='https://drive.google.com/uc?id=' + file_id\n",
        "infodf = pd.read_csv(url,index_col=0)"
      ],
      "execution_count": null,
      "outputs": []
    },
    {
      "cell_type": "code",
      "metadata": {
        "id": "rDI8mS2hKOyP"
      },
      "source": [
        "infodf"
      ],
      "execution_count": null,
      "outputs": []
    },
    {
      "cell_type": "code",
      "metadata": {
        "id": "R8ZWAhXkKaXs"
      },
      "source": [
        "disdict = {}\n",
        "locationarray =infodf['name'].unique()\n",
        "for i in range(len(locationarray)):\n",
        "  disdict[locationarray[i]]={}\n",
        "  j=i+1\n",
        "  while j < len(locationarray):\n",
        "    disdict[locationarray[i]][locationarray[j]]=0\n",
        "    j+=1"
      ],
      "execution_count": null,
      "outputs": []
    },
    {
      "cell_type": "code",
      "metadata": {
        "id": "5VVwu4wgK_28"
      },
      "source": [
        "def finddis(l1,l2):\n",
        "  \n",
        "  url=f'https://maps.googleapis.com/maps/api/distancematrix/json?units=imperial&origins={l1[0]},{l1[1]}&destinations={l2}&key=APIKEY'\n",
        "  res = json.loads(requests.get(url).content)\n",
        "  # if distance.distance(l1,l2).km > 50 :\n",
        "  #   print(l1,l2)\n",
        "  # print(distance.distance(l1,l2).km)\n",
        "  return res"
      ],
      "execution_count": null,
      "outputs": []
    },
    {
      "cell_type": "code",
      "metadata": {
        "id": "XiGmpuJbJ29U"
      },
      "source": [
        "for index ,row in infodf.iterrows():\n",
        "    dis=[]\n",
        "    name1 = row['name']\n",
        "    lat1 = row['lat']\n",
        "    long1 =row['long']\n",
        "    des=\"\"\n",
        "    r=0\n",
        "    for l in range(len(locationarray)):\n",
        "      lat2 =infodf.loc[l]['lat']\n",
        "      long2 =infodf.loc[l]['long']\n",
        "      if  r<24 and l!=len(locationarray)-1:\n",
        "        en =polyline.encode([(lat2,long2)], 5)\n",
        "        des+=f\"enc:{en}:\"+\"|\"\n",
        "        \n",
        "        \n",
        "      if r ==24 or l==len(locationarray)-1:\n",
        "        en =polyline.encode([(lat2,long2)], 5)\n",
        "        des+=f\"enc:{en}:\"+\"|\"\n",
        "        dis.append(finddis((lat1,long1),des))\n",
        "        des=\"\"\n",
        "        r=0\n",
        "      r+=1\n",
        "      # l+=1\n",
        "\n",
        "\n",
        "    finaldis =[]\n",
        "    for i in dis:\n",
        "      res = i['rows'][0]['elements']\n",
        "      for j in res:\n",
        "        # print(j['distance'])\n",
        "        distance = j['distance']['text']\n",
        "        duration = j['duration']['text']\n",
        "        finaldis.append({'distance':distance,'duration':duration})\n",
        "\n",
        "    # k =row.Index+1\n",
        "    for k in range(len(locationarray)):\n",
        "        # print(k)\n",
        "      # for kk in range(len(finaldis)):\n",
        "        # if k != row.Index:\n",
        "        name2=infodf.loc[k]['name']\n",
        "          # lat2 =locationinfodf.loc[k]['lat']\n",
        "          # long2 =locationinfodf.loc[k]['long']\n",
        "          # print(name2,lat2,long2)\n",
        "          # dis = finddis((lat1,long1),(lat2,long2))\n",
        "        disdict[name1][name2] = finaldis[k]\n"
      ],
      "execution_count": null,
      "outputs": []
    },
    {
      "cell_type": "code",
      "metadata": {
        "id": "0IthIQAdLJQd"
      },
      "source": [
        "p = pd.DataFrame()\n",
        "a=[]\n",
        "for n in disdict:\n",
        "  for i,v in disdict[n].items():\n",
        "    a.append({'from':n, 'to':i,'distance':v['distance'],'duration':v['duration']})\n",
        "p = p.append(a)\n"
      ],
      "execution_count": null,
      "outputs": []
    },
    {
      "cell_type": "code",
      "metadata": {
        "colab": {
          "base_uri": "https://localhost:8080/"
        },
        "id": "f8B0JhY-TQyZ",
        "outputId": "85d95143-9e4f-4333-b4bf-7c5c1e4337ae"
      },
      "source": [
        "p['duration'].value_counts()"
      ],
      "execution_count": null,
      "outputs": [
        {
          "output_type": "execute_result",
          "data": {
            "text/plain": [
              "17 mins           4624\n",
              "18 mins           4600\n",
              "19 mins           4589\n",
              "16 mins           4457\n",
              "20 mins           4149\n",
              "                  ... \n",
              "1 hour 39 mins       1\n",
              "1 hour 32 mins       1\n",
              "1 hour 30 mins       1\n",
              "1 hour 35 mins       1\n",
              "1 hour 34 mins       1\n",
              "Name: duration, Length: 98, dtype: int64"
            ]
          },
          "metadata": {
            "tags": []
          },
          "execution_count": 70
        }
      ]
    },
    {
      "cell_type": "code",
      "metadata": {
        "id": "PieAq4MmUuGv"
      },
      "source": [
        "for i,r in p.iterrows():\n",
        "  if r['from'] == r['to']:\n",
        "    r['distance'] = 0\n",
        "    r['duration'] = 0"
      ],
      "execution_count": null,
      "outputs": []
    }
  ]
}